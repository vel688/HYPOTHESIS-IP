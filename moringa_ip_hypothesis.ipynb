{
  "nbformat": 4,
  "nbformat_minor": 0,
  "metadata": {
    "colab": {
      "name": "moringa-ip-hypothesis.ipynb",
      "provenance": [],
      "collapsed_sections": [],
      "toc_visible": true
    },
    "kernelspec": {
      "display_name": "Python 3",
      "name": "python3"
    }
  },
  "cells": [
    {
      "cell_type": "markdown",
      "metadata": {
        "id": "Sp40boawEmZ2"
      },
      "source": [
        "#ANALYSIS OF ELECTRIC CAR USAGE"
      ]
    },
    {
      "cell_type": "markdown",
      "metadata": {
        "id": "MDAoR0ZsF7_o"
      },
      "source": [
        "#UNDERSTANDING CONTEXT\r\n",
        "Electric car sharing is a service that allows people to borrow and return elctric cars.Based on the data collected,I shall analyse it and investigate a claim about blue cars"
      ]
    },
    {
      "cell_type": "markdown",
      "metadata": {
        "id": "rmmO2bZ5oer2"
      },
      "source": [
        "PROCEDURE"
      ]
    },
    {
      "cell_type": "markdown",
      "metadata": {
        "id": "ucEnYGJeoqGo"
      },
      "source": [
        "1.Data preparation:\r\n",
        "Here, data will be loaded, viewed and cleaned"
      ]
    },
    {
      "cell_type": "markdown",
      "metadata": {
        "id": "o61SzBMUo5Jv"
      },
      "source": [
        "2.Exploratory data analysis(univariate and bivariate)"
      ]
    },
    {
      "cell_type": "markdown",
      "metadata": {
        "id": "wnMTK42-pK_-"
      },
      "source": [
        "3.Hypothesis testing."
      ]
    },
    {
      "cell_type": "markdown",
      "metadata": {
        "id": "5EJmLtQLTQQm"
      },
      "source": [
        "#DATA PREPARATION"
      ]
    },
    {
      "cell_type": "markdown",
      "metadata": {
        "id": "suEDXC-FTYw1"
      },
      "source": [
        "1.Loading data"
      ]
    },
    {
      "cell_type": "code",
      "metadata": {
        "id": "EN1-4jF0YG6v"
      },
      "source": [
        "#import libraries\r\n",
        "import pandas as pd\r\n",
        "import numpy as np\r\n",
        "import seaborn as sns\r\n",
        "import scipy.stats as st\r\n",
        "import matplotlib.pyplot as plt\r\n",
        "%matplotlib inline\r\n"
      ],
      "execution_count": 59,
      "outputs": []
    },
    {
      "cell_type": "markdown",
      "metadata": {
        "id": "whQYFpjoTc9f"
      },
      "source": [
        "2.Viewing data"
      ]
    },
    {
      "cell_type": "code",
      "metadata": {
        "colab": {
          "base_uri": "https://localhost:8080/",
          "height": 241
        },
        "id": "OjKmN7nTYQs5",
        "outputId": "dfe8f38a-af06-43ce-dd38-72dcfa2e1f5b"
      },
      "source": [
        "#loading  to be analysed\r\n",
        "data=pd.read_csv('http://bit.ly/DSCoreAutolibDataset')\r\n",
        "data.head()"
      ],
      "execution_count": null,
      "outputs": [
        {
          "output_type": "execute_result",
          "data": {
            "text/html": [
              "<div>\n",
              "<style scoped>\n",
              "    .dataframe tbody tr th:only-of-type {\n",
              "        vertical-align: middle;\n",
              "    }\n",
              "\n",
              "    .dataframe tbody tr th {\n",
              "        vertical-align: top;\n",
              "    }\n",
              "\n",
              "    .dataframe thead th {\n",
              "        text-align: right;\n",
              "    }\n",
              "</style>\n",
              "<table border=\"1\" class=\"dataframe\">\n",
              "  <thead>\n",
              "    <tr style=\"text-align: right;\">\n",
              "      <th></th>\n",
              "      <th>Postal code</th>\n",
              "      <th>date</th>\n",
              "      <th>n_daily_data_points</th>\n",
              "      <th>dayOfWeek</th>\n",
              "      <th>day_type</th>\n",
              "      <th>BlueCars_taken_sum</th>\n",
              "      <th>BlueCars_returned_sum</th>\n",
              "      <th>Utilib_taken_sum</th>\n",
              "      <th>Utilib_returned_sum</th>\n",
              "      <th>Utilib_14_taken_sum</th>\n",
              "      <th>Utilib_14_returned_sum</th>\n",
              "      <th>Slots_freed_sum</th>\n",
              "      <th>Slots_taken_sum</th>\n",
              "    </tr>\n",
              "  </thead>\n",
              "  <tbody>\n",
              "    <tr>\n",
              "      <th>0</th>\n",
              "      <td>75001</td>\n",
              "      <td>1/1/2018</td>\n",
              "      <td>1440</td>\n",
              "      <td>0</td>\n",
              "      <td>weekday</td>\n",
              "      <td>110</td>\n",
              "      <td>103</td>\n",
              "      <td>3</td>\n",
              "      <td>2</td>\n",
              "      <td>10</td>\n",
              "      <td>9</td>\n",
              "      <td>22</td>\n",
              "      <td>20</td>\n",
              "    </tr>\n",
              "    <tr>\n",
              "      <th>1</th>\n",
              "      <td>75001</td>\n",
              "      <td>1/2/2018</td>\n",
              "      <td>1438</td>\n",
              "      <td>1</td>\n",
              "      <td>weekday</td>\n",
              "      <td>98</td>\n",
              "      <td>94</td>\n",
              "      <td>1</td>\n",
              "      <td>1</td>\n",
              "      <td>8</td>\n",
              "      <td>8</td>\n",
              "      <td>23</td>\n",
              "      <td>22</td>\n",
              "    </tr>\n",
              "    <tr>\n",
              "      <th>2</th>\n",
              "      <td>75001</td>\n",
              "      <td>1/3/2018</td>\n",
              "      <td>1439</td>\n",
              "      <td>2</td>\n",
              "      <td>weekday</td>\n",
              "      <td>138</td>\n",
              "      <td>139</td>\n",
              "      <td>0</td>\n",
              "      <td>0</td>\n",
              "      <td>2</td>\n",
              "      <td>2</td>\n",
              "      <td>27</td>\n",
              "      <td>27</td>\n",
              "    </tr>\n",
              "    <tr>\n",
              "      <th>3</th>\n",
              "      <td>75001</td>\n",
              "      <td>1/4/2018</td>\n",
              "      <td>1320</td>\n",
              "      <td>3</td>\n",
              "      <td>weekday</td>\n",
              "      <td>104</td>\n",
              "      <td>104</td>\n",
              "      <td>2</td>\n",
              "      <td>2</td>\n",
              "      <td>9</td>\n",
              "      <td>8</td>\n",
              "      <td>25</td>\n",
              "      <td>21</td>\n",
              "    </tr>\n",
              "    <tr>\n",
              "      <th>4</th>\n",
              "      <td>75001</td>\n",
              "      <td>1/5/2018</td>\n",
              "      <td>1440</td>\n",
              "      <td>4</td>\n",
              "      <td>weekday</td>\n",
              "      <td>114</td>\n",
              "      <td>117</td>\n",
              "      <td>3</td>\n",
              "      <td>3</td>\n",
              "      <td>6</td>\n",
              "      <td>6</td>\n",
              "      <td>18</td>\n",
              "      <td>20</td>\n",
              "    </tr>\n",
              "  </tbody>\n",
              "</table>\n",
              "</div>"
            ],
            "text/plain": [
              "   Postal code      date  ...  Slots_freed_sum  Slots_taken_sum\n",
              "0        75001  1/1/2018  ...               22               20\n",
              "1        75001  1/2/2018  ...               23               22\n",
              "2        75001  1/3/2018  ...               27               27\n",
              "3        75001  1/4/2018  ...               25               21\n",
              "4        75001  1/5/2018  ...               18               20\n",
              "\n",
              "[5 rows x 13 columns]"
            ]
          },
          "metadata": {
            "tags": []
          },
          "execution_count": 3
        }
      ]
    },
    {
      "cell_type": "markdown",
      "metadata": {
        "id": "xqkpToCKTvLm"
      },
      "source": [
        "3.Cleaning data"
      ]
    },
    {
      "cell_type": "markdown",
      "metadata": {
        "id": "YQiD-JzN4pN4"
      },
      "source": [
        ""
      ]
    },
    {
      "cell_type": "code",
      "metadata": {
        "id": "um_mPMbxND-J",
        "colab": {
          "base_uri": "https://localhost:8080/",
          "height": 456
        },
        "outputId": "2b61d15f-77a6-48a1-8864-9f1e5b2215a5"
      },
      "source": [
        "#drop index column\r\n",
        "data.reset_index(drop=True, inplace=True)\r\n",
        "data"
      ],
      "execution_count": null,
      "outputs": [
        {
          "output_type": "execute_result",
          "data": {
            "text/html": [
              "<div>\n",
              "<style scoped>\n",
              "    .dataframe tbody tr th:only-of-type {\n",
              "        vertical-align: middle;\n",
              "    }\n",
              "\n",
              "    .dataframe tbody tr th {\n",
              "        vertical-align: top;\n",
              "    }\n",
              "\n",
              "    .dataframe thead th {\n",
              "        text-align: right;\n",
              "    }\n",
              "</style>\n",
              "<table border=\"1\" class=\"dataframe\">\n",
              "  <thead>\n",
              "    <tr style=\"text-align: right;\">\n",
              "      <th></th>\n",
              "      <th>Postal code</th>\n",
              "      <th>date</th>\n",
              "      <th>n_daily_data_points</th>\n",
              "      <th>dayOfWeek</th>\n",
              "      <th>day_type</th>\n",
              "      <th>BlueCars_taken_sum</th>\n",
              "      <th>BlueCars_returned_sum</th>\n",
              "      <th>Utilib_taken_sum</th>\n",
              "      <th>Utilib_returned_sum</th>\n",
              "      <th>Utilib_14_taken_sum</th>\n",
              "      <th>Utilib_14_returned_sum</th>\n",
              "      <th>Slots_freed_sum</th>\n",
              "      <th>Slots_taken_sum</th>\n",
              "    </tr>\n",
              "  </thead>\n",
              "  <tbody>\n",
              "    <tr>\n",
              "      <th>0</th>\n",
              "      <td>75001</td>\n",
              "      <td>1/1/2018</td>\n",
              "      <td>1440</td>\n",
              "      <td>0</td>\n",
              "      <td>weekday</td>\n",
              "      <td>110</td>\n",
              "      <td>103</td>\n",
              "      <td>3</td>\n",
              "      <td>2</td>\n",
              "      <td>10</td>\n",
              "      <td>9</td>\n",
              "      <td>22</td>\n",
              "      <td>20</td>\n",
              "    </tr>\n",
              "    <tr>\n",
              "      <th>1</th>\n",
              "      <td>75001</td>\n",
              "      <td>1/2/2018</td>\n",
              "      <td>1438</td>\n",
              "      <td>1</td>\n",
              "      <td>weekday</td>\n",
              "      <td>98</td>\n",
              "      <td>94</td>\n",
              "      <td>1</td>\n",
              "      <td>1</td>\n",
              "      <td>8</td>\n",
              "      <td>8</td>\n",
              "      <td>23</td>\n",
              "      <td>22</td>\n",
              "    </tr>\n",
              "    <tr>\n",
              "      <th>2</th>\n",
              "      <td>75001</td>\n",
              "      <td>1/3/2018</td>\n",
              "      <td>1439</td>\n",
              "      <td>2</td>\n",
              "      <td>weekday</td>\n",
              "      <td>138</td>\n",
              "      <td>139</td>\n",
              "      <td>0</td>\n",
              "      <td>0</td>\n",
              "      <td>2</td>\n",
              "      <td>2</td>\n",
              "      <td>27</td>\n",
              "      <td>27</td>\n",
              "    </tr>\n",
              "    <tr>\n",
              "      <th>3</th>\n",
              "      <td>75001</td>\n",
              "      <td>1/4/2018</td>\n",
              "      <td>1320</td>\n",
              "      <td>3</td>\n",
              "      <td>weekday</td>\n",
              "      <td>104</td>\n",
              "      <td>104</td>\n",
              "      <td>2</td>\n",
              "      <td>2</td>\n",
              "      <td>9</td>\n",
              "      <td>8</td>\n",
              "      <td>25</td>\n",
              "      <td>21</td>\n",
              "    </tr>\n",
              "    <tr>\n",
              "      <th>4</th>\n",
              "      <td>75001</td>\n",
              "      <td>1/5/2018</td>\n",
              "      <td>1440</td>\n",
              "      <td>4</td>\n",
              "      <td>weekday</td>\n",
              "      <td>114</td>\n",
              "      <td>117</td>\n",
              "      <td>3</td>\n",
              "      <td>3</td>\n",
              "      <td>6</td>\n",
              "      <td>6</td>\n",
              "      <td>18</td>\n",
              "      <td>20</td>\n",
              "    </tr>\n",
              "    <tr>\n",
              "      <th>...</th>\n",
              "      <td>...</td>\n",
              "      <td>...</td>\n",
              "      <td>...</td>\n",
              "      <td>...</td>\n",
              "      <td>...</td>\n",
              "      <td>...</td>\n",
              "      <td>...</td>\n",
              "      <td>...</td>\n",
              "      <td>...</td>\n",
              "      <td>...</td>\n",
              "      <td>...</td>\n",
              "      <td>...</td>\n",
              "      <td>...</td>\n",
              "    </tr>\n",
              "    <tr>\n",
              "      <th>16080</th>\n",
              "      <td>95880</td>\n",
              "      <td>6/15/2018</td>\n",
              "      <td>1440</td>\n",
              "      <td>4</td>\n",
              "      <td>weekday</td>\n",
              "      <td>15</td>\n",
              "      <td>10</td>\n",
              "      <td>0</td>\n",
              "      <td>0</td>\n",
              "      <td>2</td>\n",
              "      <td>3</td>\n",
              "      <td>0</td>\n",
              "      <td>0</td>\n",
              "    </tr>\n",
              "    <tr>\n",
              "      <th>16081</th>\n",
              "      <td>95880</td>\n",
              "      <td>6/16/2018</td>\n",
              "      <td>1440</td>\n",
              "      <td>5</td>\n",
              "      <td>weekend</td>\n",
              "      <td>19</td>\n",
              "      <td>19</td>\n",
              "      <td>0</td>\n",
              "      <td>0</td>\n",
              "      <td>2</td>\n",
              "      <td>1</td>\n",
              "      <td>0</td>\n",
              "      <td>0</td>\n",
              "    </tr>\n",
              "    <tr>\n",
              "      <th>16082</th>\n",
              "      <td>95880</td>\n",
              "      <td>6/17/2018</td>\n",
              "      <td>1440</td>\n",
              "      <td>6</td>\n",
              "      <td>weekend</td>\n",
              "      <td>33</td>\n",
              "      <td>35</td>\n",
              "      <td>1</td>\n",
              "      <td>1</td>\n",
              "      <td>0</td>\n",
              "      <td>0</td>\n",
              "      <td>0</td>\n",
              "      <td>0</td>\n",
              "    </tr>\n",
              "    <tr>\n",
              "      <th>16083</th>\n",
              "      <td>95880</td>\n",
              "      <td>6/18/2018</td>\n",
              "      <td>1440</td>\n",
              "      <td>0</td>\n",
              "      <td>weekday</td>\n",
              "      <td>11</td>\n",
              "      <td>14</td>\n",
              "      <td>3</td>\n",
              "      <td>5</td>\n",
              "      <td>2</td>\n",
              "      <td>2</td>\n",
              "      <td>0</td>\n",
              "      <td>0</td>\n",
              "    </tr>\n",
              "    <tr>\n",
              "      <th>16084</th>\n",
              "      <td>95880</td>\n",
              "      <td>6/19/2018</td>\n",
              "      <td>1370</td>\n",
              "      <td>1</td>\n",
              "      <td>weekday</td>\n",
              "      <td>2</td>\n",
              "      <td>2</td>\n",
              "      <td>2</td>\n",
              "      <td>1</td>\n",
              "      <td>0</td>\n",
              "      <td>0</td>\n",
              "      <td>0</td>\n",
              "      <td>0</td>\n",
              "    </tr>\n",
              "  </tbody>\n",
              "</table>\n",
              "<p>16085 rows × 13 columns</p>\n",
              "</div>"
            ],
            "text/plain": [
              "       Postal code       date  ...  Slots_freed_sum  Slots_taken_sum\n",
              "0            75001   1/1/2018  ...               22               20\n",
              "1            75001   1/2/2018  ...               23               22\n",
              "2            75001   1/3/2018  ...               27               27\n",
              "3            75001   1/4/2018  ...               25               21\n",
              "4            75001   1/5/2018  ...               18               20\n",
              "...            ...        ...  ...              ...              ...\n",
              "16080        95880  6/15/2018  ...                0                0\n",
              "16081        95880  6/16/2018  ...                0                0\n",
              "16082        95880  6/17/2018  ...                0                0\n",
              "16083        95880  6/18/2018  ...                0                0\n",
              "16084        95880  6/19/2018  ...                0                0\n",
              "\n",
              "[16085 rows x 13 columns]"
            ]
          },
          "metadata": {
            "tags": []
          },
          "execution_count": 4
        }
      ]
    },
    {
      "cell_type": "code",
      "metadata": {
        "id": "jkr75zxTY8zk",
        "colab": {
          "base_uri": "https://localhost:8080/"
        },
        "outputId": "962bc27e-9c12-4937-82fd-fb74c50c2d15"
      },
      "source": [
        "#check for null values\r\n",
        "data.isnull().sum()\r\n",
        "\r\n",
        "#There are no null values"
      ],
      "execution_count": null,
      "outputs": [
        {
          "output_type": "execute_result",
          "data": {
            "text/plain": [
              "Postal code               0\n",
              "date                      0\n",
              "n_daily_data_points       0\n",
              "dayOfWeek                 0\n",
              "day_type                  0\n",
              "BlueCars_taken_sum        0\n",
              "BlueCars_returned_sum     0\n",
              "Utilib_taken_sum          0\n",
              "Utilib_returned_sum       0\n",
              "Utilib_14_taken_sum       0\n",
              "Utilib_14_returned_sum    0\n",
              "Slots_freed_sum           0\n",
              "Slots_taken_sum           0\n",
              "dtype: int64"
            ]
          },
          "metadata": {
            "tags": []
          },
          "execution_count": 5
        }
      ]
    },
    {
      "cell_type": "code",
      "metadata": {
        "id": "uFCezvW-Zr04",
        "colab": {
          "base_uri": "https://localhost:8080/"
        },
        "outputId": "0cd0a814-8766-4115-8842-29e9975731d3"
      },
      "source": [
        "#check for duplicates\r\n",
        "data.duplicated().sum()\r\n",
        "\r\n",
        "#there are no duplicates"
      ],
      "execution_count": null,
      "outputs": [
        {
          "output_type": "execute_result",
          "data": {
            "text/plain": [
              "0"
            ]
          },
          "metadata": {
            "tags": []
          },
          "execution_count": 6
        }
      ]
    },
    {
      "cell_type": "code",
      "metadata": {
        "id": "ZiCP6euQKZt8",
        "colab": {
          "base_uri": "https://localhost:8080/",
          "height": 419
        },
        "outputId": "b4ff8fab-6920-45e7-e606-caeb0d920411"
      },
      "source": [
        "#renaming columns.\r\n",
        "data.columns = ['p_code',\t'date',\t'daily_points','day', 'day_type', 'b_taken',\r\n",
        "                'b_returned',\t'u_taken', 'u_returned', 'u14_taken',\t'U14_returned',\t'Slots_freed_sum', 'Slots_taken_sum']\r\n",
        "data"
      ],
      "execution_count": null,
      "outputs": [
        {
          "output_type": "execute_result",
          "data": {
            "text/html": [
              "<div>\n",
              "<style scoped>\n",
              "    .dataframe tbody tr th:only-of-type {\n",
              "        vertical-align: middle;\n",
              "    }\n",
              "\n",
              "    .dataframe tbody tr th {\n",
              "        vertical-align: top;\n",
              "    }\n",
              "\n",
              "    .dataframe thead th {\n",
              "        text-align: right;\n",
              "    }\n",
              "</style>\n",
              "<table border=\"1\" class=\"dataframe\">\n",
              "  <thead>\n",
              "    <tr style=\"text-align: right;\">\n",
              "      <th></th>\n",
              "      <th>p_code</th>\n",
              "      <th>date</th>\n",
              "      <th>daily_points</th>\n",
              "      <th>day</th>\n",
              "      <th>day_type</th>\n",
              "      <th>b_taken</th>\n",
              "      <th>b_returned</th>\n",
              "      <th>u_taken</th>\n",
              "      <th>u_returned</th>\n",
              "      <th>u14_taken</th>\n",
              "      <th>U14_returned</th>\n",
              "      <th>Slots_freed_sum</th>\n",
              "      <th>Slots_taken_sum</th>\n",
              "    </tr>\n",
              "  </thead>\n",
              "  <tbody>\n",
              "    <tr>\n",
              "      <th>0</th>\n",
              "      <td>75001</td>\n",
              "      <td>1/1/2018</td>\n",
              "      <td>1440</td>\n",
              "      <td>0</td>\n",
              "      <td>weekday</td>\n",
              "      <td>110</td>\n",
              "      <td>103</td>\n",
              "      <td>3</td>\n",
              "      <td>2</td>\n",
              "      <td>10</td>\n",
              "      <td>9</td>\n",
              "      <td>22</td>\n",
              "      <td>20</td>\n",
              "    </tr>\n",
              "    <tr>\n",
              "      <th>1</th>\n",
              "      <td>75001</td>\n",
              "      <td>1/2/2018</td>\n",
              "      <td>1438</td>\n",
              "      <td>1</td>\n",
              "      <td>weekday</td>\n",
              "      <td>98</td>\n",
              "      <td>94</td>\n",
              "      <td>1</td>\n",
              "      <td>1</td>\n",
              "      <td>8</td>\n",
              "      <td>8</td>\n",
              "      <td>23</td>\n",
              "      <td>22</td>\n",
              "    </tr>\n",
              "    <tr>\n",
              "      <th>2</th>\n",
              "      <td>75001</td>\n",
              "      <td>1/3/2018</td>\n",
              "      <td>1439</td>\n",
              "      <td>2</td>\n",
              "      <td>weekday</td>\n",
              "      <td>138</td>\n",
              "      <td>139</td>\n",
              "      <td>0</td>\n",
              "      <td>0</td>\n",
              "      <td>2</td>\n",
              "      <td>2</td>\n",
              "      <td>27</td>\n",
              "      <td>27</td>\n",
              "    </tr>\n",
              "    <tr>\n",
              "      <th>3</th>\n",
              "      <td>75001</td>\n",
              "      <td>1/4/2018</td>\n",
              "      <td>1320</td>\n",
              "      <td>3</td>\n",
              "      <td>weekday</td>\n",
              "      <td>104</td>\n",
              "      <td>104</td>\n",
              "      <td>2</td>\n",
              "      <td>2</td>\n",
              "      <td>9</td>\n",
              "      <td>8</td>\n",
              "      <td>25</td>\n",
              "      <td>21</td>\n",
              "    </tr>\n",
              "    <tr>\n",
              "      <th>4</th>\n",
              "      <td>75001</td>\n",
              "      <td>1/5/2018</td>\n",
              "      <td>1440</td>\n",
              "      <td>4</td>\n",
              "      <td>weekday</td>\n",
              "      <td>114</td>\n",
              "      <td>117</td>\n",
              "      <td>3</td>\n",
              "      <td>3</td>\n",
              "      <td>6</td>\n",
              "      <td>6</td>\n",
              "      <td>18</td>\n",
              "      <td>20</td>\n",
              "    </tr>\n",
              "    <tr>\n",
              "      <th>...</th>\n",
              "      <td>...</td>\n",
              "      <td>...</td>\n",
              "      <td>...</td>\n",
              "      <td>...</td>\n",
              "      <td>...</td>\n",
              "      <td>...</td>\n",
              "      <td>...</td>\n",
              "      <td>...</td>\n",
              "      <td>...</td>\n",
              "      <td>...</td>\n",
              "      <td>...</td>\n",
              "      <td>...</td>\n",
              "      <td>...</td>\n",
              "    </tr>\n",
              "    <tr>\n",
              "      <th>16080</th>\n",
              "      <td>95880</td>\n",
              "      <td>6/15/2018</td>\n",
              "      <td>1440</td>\n",
              "      <td>4</td>\n",
              "      <td>weekday</td>\n",
              "      <td>15</td>\n",
              "      <td>10</td>\n",
              "      <td>0</td>\n",
              "      <td>0</td>\n",
              "      <td>2</td>\n",
              "      <td>3</td>\n",
              "      <td>0</td>\n",
              "      <td>0</td>\n",
              "    </tr>\n",
              "    <tr>\n",
              "      <th>16081</th>\n",
              "      <td>95880</td>\n",
              "      <td>6/16/2018</td>\n",
              "      <td>1440</td>\n",
              "      <td>5</td>\n",
              "      <td>weekend</td>\n",
              "      <td>19</td>\n",
              "      <td>19</td>\n",
              "      <td>0</td>\n",
              "      <td>0</td>\n",
              "      <td>2</td>\n",
              "      <td>1</td>\n",
              "      <td>0</td>\n",
              "      <td>0</td>\n",
              "    </tr>\n",
              "    <tr>\n",
              "      <th>16082</th>\n",
              "      <td>95880</td>\n",
              "      <td>6/17/2018</td>\n",
              "      <td>1440</td>\n",
              "      <td>6</td>\n",
              "      <td>weekend</td>\n",
              "      <td>33</td>\n",
              "      <td>35</td>\n",
              "      <td>1</td>\n",
              "      <td>1</td>\n",
              "      <td>0</td>\n",
              "      <td>0</td>\n",
              "      <td>0</td>\n",
              "      <td>0</td>\n",
              "    </tr>\n",
              "    <tr>\n",
              "      <th>16083</th>\n",
              "      <td>95880</td>\n",
              "      <td>6/18/2018</td>\n",
              "      <td>1440</td>\n",
              "      <td>0</td>\n",
              "      <td>weekday</td>\n",
              "      <td>11</td>\n",
              "      <td>14</td>\n",
              "      <td>3</td>\n",
              "      <td>5</td>\n",
              "      <td>2</td>\n",
              "      <td>2</td>\n",
              "      <td>0</td>\n",
              "      <td>0</td>\n",
              "    </tr>\n",
              "    <tr>\n",
              "      <th>16084</th>\n",
              "      <td>95880</td>\n",
              "      <td>6/19/2018</td>\n",
              "      <td>1370</td>\n",
              "      <td>1</td>\n",
              "      <td>weekday</td>\n",
              "      <td>2</td>\n",
              "      <td>2</td>\n",
              "      <td>2</td>\n",
              "      <td>1</td>\n",
              "      <td>0</td>\n",
              "      <td>0</td>\n",
              "      <td>0</td>\n",
              "      <td>0</td>\n",
              "    </tr>\n",
              "  </tbody>\n",
              "</table>\n",
              "<p>16085 rows × 13 columns</p>\n",
              "</div>"
            ],
            "text/plain": [
              "       p_code       date  ...  Slots_freed_sum  Slots_taken_sum\n",
              "0       75001   1/1/2018  ...               22               20\n",
              "1       75001   1/2/2018  ...               23               22\n",
              "2       75001   1/3/2018  ...               27               27\n",
              "3       75001   1/4/2018  ...               25               21\n",
              "4       75001   1/5/2018  ...               18               20\n",
              "...       ...        ...  ...              ...              ...\n",
              "16080   95880  6/15/2018  ...                0                0\n",
              "16081   95880  6/16/2018  ...                0                0\n",
              "16082   95880  6/17/2018  ...                0                0\n",
              "16083   95880  6/18/2018  ...                0                0\n",
              "16084   95880  6/19/2018  ...                0                0\n",
              "\n",
              "[16085 rows x 13 columns]"
            ]
          },
          "metadata": {
            "tags": []
          },
          "execution_count": 7
        }
      ]
    },
    {
      "cell_type": "code",
      "metadata": {
        "id": "N4jQoiypZ1va",
        "colab": {
          "base_uri": "https://localhost:8080/",
          "height": 419
        },
        "outputId": "25476b7b-9466-44d7-b42c-de972a99ffee"
      },
      "source": [
        "#drop column that will not be useful in the analysis\r\n",
        "data.drop([\t'u_taken', 'u_returned', 'u14_taken', 'U14_returned', 'Slots_freed_sum', 'Slots_taken_sum'], axis=1, inplace= True)\r\n",
        "data"
      ],
      "execution_count": null,
      "outputs": [
        {
          "output_type": "execute_result",
          "data": {
            "text/html": [
              "<div>\n",
              "<style scoped>\n",
              "    .dataframe tbody tr th:only-of-type {\n",
              "        vertical-align: middle;\n",
              "    }\n",
              "\n",
              "    .dataframe tbody tr th {\n",
              "        vertical-align: top;\n",
              "    }\n",
              "\n",
              "    .dataframe thead th {\n",
              "        text-align: right;\n",
              "    }\n",
              "</style>\n",
              "<table border=\"1\" class=\"dataframe\">\n",
              "  <thead>\n",
              "    <tr style=\"text-align: right;\">\n",
              "      <th></th>\n",
              "      <th>p_code</th>\n",
              "      <th>date</th>\n",
              "      <th>daily_points</th>\n",
              "      <th>day</th>\n",
              "      <th>day_type</th>\n",
              "      <th>b_taken</th>\n",
              "      <th>b_returned</th>\n",
              "    </tr>\n",
              "  </thead>\n",
              "  <tbody>\n",
              "    <tr>\n",
              "      <th>0</th>\n",
              "      <td>75001</td>\n",
              "      <td>1/1/2018</td>\n",
              "      <td>1440</td>\n",
              "      <td>0</td>\n",
              "      <td>weekday</td>\n",
              "      <td>110</td>\n",
              "      <td>103</td>\n",
              "    </tr>\n",
              "    <tr>\n",
              "      <th>1</th>\n",
              "      <td>75001</td>\n",
              "      <td>1/2/2018</td>\n",
              "      <td>1438</td>\n",
              "      <td>1</td>\n",
              "      <td>weekday</td>\n",
              "      <td>98</td>\n",
              "      <td>94</td>\n",
              "    </tr>\n",
              "    <tr>\n",
              "      <th>2</th>\n",
              "      <td>75001</td>\n",
              "      <td>1/3/2018</td>\n",
              "      <td>1439</td>\n",
              "      <td>2</td>\n",
              "      <td>weekday</td>\n",
              "      <td>138</td>\n",
              "      <td>139</td>\n",
              "    </tr>\n",
              "    <tr>\n",
              "      <th>3</th>\n",
              "      <td>75001</td>\n",
              "      <td>1/4/2018</td>\n",
              "      <td>1320</td>\n",
              "      <td>3</td>\n",
              "      <td>weekday</td>\n",
              "      <td>104</td>\n",
              "      <td>104</td>\n",
              "    </tr>\n",
              "    <tr>\n",
              "      <th>4</th>\n",
              "      <td>75001</td>\n",
              "      <td>1/5/2018</td>\n",
              "      <td>1440</td>\n",
              "      <td>4</td>\n",
              "      <td>weekday</td>\n",
              "      <td>114</td>\n",
              "      <td>117</td>\n",
              "    </tr>\n",
              "    <tr>\n",
              "      <th>...</th>\n",
              "      <td>...</td>\n",
              "      <td>...</td>\n",
              "      <td>...</td>\n",
              "      <td>...</td>\n",
              "      <td>...</td>\n",
              "      <td>...</td>\n",
              "      <td>...</td>\n",
              "    </tr>\n",
              "    <tr>\n",
              "      <th>16080</th>\n",
              "      <td>95880</td>\n",
              "      <td>6/15/2018</td>\n",
              "      <td>1440</td>\n",
              "      <td>4</td>\n",
              "      <td>weekday</td>\n",
              "      <td>15</td>\n",
              "      <td>10</td>\n",
              "    </tr>\n",
              "    <tr>\n",
              "      <th>16081</th>\n",
              "      <td>95880</td>\n",
              "      <td>6/16/2018</td>\n",
              "      <td>1440</td>\n",
              "      <td>5</td>\n",
              "      <td>weekend</td>\n",
              "      <td>19</td>\n",
              "      <td>19</td>\n",
              "    </tr>\n",
              "    <tr>\n",
              "      <th>16082</th>\n",
              "      <td>95880</td>\n",
              "      <td>6/17/2018</td>\n",
              "      <td>1440</td>\n",
              "      <td>6</td>\n",
              "      <td>weekend</td>\n",
              "      <td>33</td>\n",
              "      <td>35</td>\n",
              "    </tr>\n",
              "    <tr>\n",
              "      <th>16083</th>\n",
              "      <td>95880</td>\n",
              "      <td>6/18/2018</td>\n",
              "      <td>1440</td>\n",
              "      <td>0</td>\n",
              "      <td>weekday</td>\n",
              "      <td>11</td>\n",
              "      <td>14</td>\n",
              "    </tr>\n",
              "    <tr>\n",
              "      <th>16084</th>\n",
              "      <td>95880</td>\n",
              "      <td>6/19/2018</td>\n",
              "      <td>1370</td>\n",
              "      <td>1</td>\n",
              "      <td>weekday</td>\n",
              "      <td>2</td>\n",
              "      <td>2</td>\n",
              "    </tr>\n",
              "  </tbody>\n",
              "</table>\n",
              "<p>16085 rows × 7 columns</p>\n",
              "</div>"
            ],
            "text/plain": [
              "       p_code       date  daily_points  day day_type  b_taken  b_returned\n",
              "0       75001   1/1/2018          1440    0  weekday      110         103\n",
              "1       75001   1/2/2018          1438    1  weekday       98          94\n",
              "2       75001   1/3/2018          1439    2  weekday      138         139\n",
              "3       75001   1/4/2018          1320    3  weekday      104         104\n",
              "4       75001   1/5/2018          1440    4  weekday      114         117\n",
              "...       ...        ...           ...  ...      ...      ...         ...\n",
              "16080   95880  6/15/2018          1440    4  weekday       15          10\n",
              "16081   95880  6/16/2018          1440    5  weekend       19          19\n",
              "16082   95880  6/17/2018          1440    6  weekend       33          35\n",
              "16083   95880  6/18/2018          1440    0  weekday       11          14\n",
              "16084   95880  6/19/2018          1370    1  weekday        2           2\n",
              "\n",
              "[16085 rows x 7 columns]"
            ]
          },
          "metadata": {
            "tags": []
          },
          "execution_count": 8
        }
      ]
    },
    {
      "cell_type": "code",
      "metadata": {
        "id": "EpN5vBVqJhsx",
        "colab": {
          "base_uri": "https://localhost:8080/",
          "height": 350
        },
        "outputId": "57247807-c1c7-4aca-bdd0-5006df9acbb0"
      },
      "source": [
        "sns.boxplot(data['b_taken'], showmeans=True)\r\n",
        "plt.title('BOXPLOT OF BLUE CARS TAKEN' ,color='g')\r\n",
        "plt.show()\r\n",
        "\r\n",
        "#outliers are present"
      ],
      "execution_count": null,
      "outputs": [
        {
          "output_type": "stream",
          "text": [
            "/usr/local/lib/python3.6/dist-packages/seaborn/_decorators.py:43: FutureWarning: Pass the following variable as a keyword arg: x. From version 0.12, the only valid positional argument will be `data`, and passing other arguments without an explicit keyword will result in an error or misinterpretation.\n",
            "  FutureWarning\n"
          ],
          "name": "stderr"
        },
        {
          "output_type": "display_data",
          "data": {
            "image/png": "[encoded data removed]",
            "text/plain": [
              "<Figure size 432x288 with 1 Axes>"
            ]
          },
          "metadata": {
            "tags": [],
            "needs_background": "light"
          }
        }
      ]
    },
    {
      "cell_type": "code",
      "metadata": {
        "id": "VyKaY_xDJwrB",
        "colab": {
          "base_uri": "https://localhost:8080/",
          "height": 350
        },
        "outputId": "07fa21f4-1314-4485-af52-6afb4e8745fd"
      },
      "source": [
        "sns.boxplot(data['b_returned'], showmeans=True)\r\n",
        "plt.title('BOXPLOT OF BLUE CARS RETURNED' ,color='g')\r\n",
        "plt.show()\r\n",
        "\r\n",
        "#There are some outliers"
      ],
      "execution_count": null,
      "outputs": [
        {
          "output_type": "stream",
          "text": [
            "/usr/local/lib/python3.6/dist-packages/seaborn/_decorators.py:43: FutureWarning: Pass the following variable as a keyword arg: x. From version 0.12, the only valid positional argument will be `data`, and passing other arguments without an explicit keyword will result in an error or misinterpretation.\n",
            "  FutureWarning\n"
          ],
          "name": "stderr"
        },
        {
          "output_type": "display_data",
          "data": {
            "image/png": "[encoded data removed]",
            "text/plain": [
              "<Figure size 432x288 with 1 Axes>"
            ]
          },
          "metadata": {
            "tags": [],
            "needs_background": "light"
          }
        }
      ]
    },
    {
      "cell_type": "markdown",
      "metadata": {
        "id": "MnZpw55guRWr"
      },
      "source": [
        "#EXPLORATORY DATA ANALYSIS\r\n"
      ]
    },
    {
      "cell_type": "markdown",
      "metadata": {
        "id": "dnn8tcKgT6jQ"
      },
      "source": [
        "1.Univarite"
      ]
    },
    {
      "cell_type": "code",
      "metadata": {
        "id": "k6dAfOBGO2c2",
        "colab": {
          "base_uri": "https://localhost:8080/",
          "height": 535
        },
        "outputId": "d2a17911-7044-42a0-ddaa-89e746299712"
      },
      "source": [
        "#get information about the dataset\r\n",
        "#get a descriptive summary of the data\r\n",
        "data.info()\r\n",
        "data.describe()"
      ],
      "execution_count": null,
      "outputs": [
        {
          "output_type": "stream",
          "text": [
            "<class 'pandas.core.frame.DataFrame'>\n",
            "RangeIndex: 16085 entries, 0 to 16084\n",
            "Data columns (total 7 columns):\n",
            " #   Column        Non-Null Count  Dtype \n",
            "---  ------        --------------  ----- \n",
            " 0   p_code        16085 non-null  int64 \n",
            " 1   date          16085 non-null  object\n",
            " 2   daily_points  16085 non-null  int64 \n",
            " 3   day           16085 non-null  int64 \n",
            " 4   day_type      16085 non-null  object\n",
            " 5   b_taken       16085 non-null  int64 \n",
            " 6   b_returned    16085 non-null  int64 \n",
            "dtypes: int64(5), object(2)\n",
            "memory usage: 879.8+ KB\n"
          ],
          "name": "stdout"
        },
        {
          "output_type": "execute_result",
          "data": {
            "text/html": [
              "<div>\n",
              "<style scoped>\n",
              "    .dataframe tbody tr th:only-of-type {\n",
              "        vertical-align: middle;\n",
              "    }\n",
              "\n",
              "    .dataframe tbody tr th {\n",
              "        vertical-align: top;\n",
              "    }\n",
              "\n",
              "    .dataframe thead th {\n",
              "        text-align: right;\n",
              "    }\n",
              "</style>\n",
              "<table border=\"1\" class=\"dataframe\">\n",
              "  <thead>\n",
              "    <tr style=\"text-align: right;\">\n",
              "      <th></th>\n",
              "      <th>p_code</th>\n",
              "      <th>daily_points</th>\n",
              "      <th>day</th>\n",
              "      <th>b_taken</th>\n",
              "      <th>b_returned</th>\n",
              "    </tr>\n",
              "  </thead>\n",
              "  <tbody>\n",
              "    <tr>\n",
              "      <th>count</th>\n",
              "      <td>16085.000000</td>\n",
              "      <td>16085.000000</td>\n",
              "      <td>16085.000000</td>\n",
              "      <td>16085.000000</td>\n",
              "      <td>16085.000000</td>\n",
              "    </tr>\n",
              "    <tr>\n",
              "      <th>mean</th>\n",
              "      <td>88791.293876</td>\n",
              "      <td>1431.330619</td>\n",
              "      <td>2.969599</td>\n",
              "      <td>125.926951</td>\n",
              "      <td>125.912714</td>\n",
              "    </tr>\n",
              "    <tr>\n",
              "      <th>std</th>\n",
              "      <td>7647.342000</td>\n",
              "      <td>33.212050</td>\n",
              "      <td>2.008378</td>\n",
              "      <td>185.426579</td>\n",
              "      <td>185.501535</td>\n",
              "    </tr>\n",
              "    <tr>\n",
              "      <th>min</th>\n",
              "      <td>75001.000000</td>\n",
              "      <td>1174.000000</td>\n",
              "      <td>0.000000</td>\n",
              "      <td>0.000000</td>\n",
              "      <td>0.000000</td>\n",
              "    </tr>\n",
              "    <tr>\n",
              "      <th>25%</th>\n",
              "      <td>91330.000000</td>\n",
              "      <td>1439.000000</td>\n",
              "      <td>1.000000</td>\n",
              "      <td>20.000000</td>\n",
              "      <td>20.000000</td>\n",
              "    </tr>\n",
              "    <tr>\n",
              "      <th>50%</th>\n",
              "      <td>92340.000000</td>\n",
              "      <td>1440.000000</td>\n",
              "      <td>3.000000</td>\n",
              "      <td>46.000000</td>\n",
              "      <td>46.000000</td>\n",
              "    </tr>\n",
              "    <tr>\n",
              "      <th>75%</th>\n",
              "      <td>93400.000000</td>\n",
              "      <td>1440.000000</td>\n",
              "      <td>5.000000</td>\n",
              "      <td>135.000000</td>\n",
              "      <td>135.000000</td>\n",
              "    </tr>\n",
              "    <tr>\n",
              "      <th>max</th>\n",
              "      <td>95880.000000</td>\n",
              "      <td>1440.000000</td>\n",
              "      <td>6.000000</td>\n",
              "      <td>1352.000000</td>\n",
              "      <td>1332.000000</td>\n",
              "    </tr>\n",
              "  </tbody>\n",
              "</table>\n",
              "</div>"
            ],
            "text/plain": [
              "             p_code  daily_points           day       b_taken    b_returned\n",
              "count  16085.000000  16085.000000  16085.000000  16085.000000  16085.000000\n",
              "mean   88791.293876   1431.330619      2.969599    125.926951    125.912714\n",
              "std     7647.342000     33.212050      2.008378    185.426579    185.501535\n",
              "min    75001.000000   1174.000000      0.000000      0.000000      0.000000\n",
              "25%    91330.000000   1439.000000      1.000000     20.000000     20.000000\n",
              "50%    92340.000000   1440.000000      3.000000     46.000000     46.000000\n",
              "75%    93400.000000   1440.000000      5.000000    135.000000    135.000000\n",
              "max    95880.000000   1440.000000      6.000000   1352.000000   1332.000000"
            ]
          },
          "metadata": {
            "tags": []
          },
          "execution_count": 11
        }
      ]
    },
    {
      "cell_type": "code",
      "metadata": {
        "id": "iHPZ2clBvAY_",
        "colab": {
          "base_uri": "https://localhost:8080/"
        },
        "outputId": "121da7ac-f946-4055-ca81-105f7347add3"
      },
      "source": [
        "#frequency distribution\r\n",
        "data.day.value_counts()"
      ],
      "execution_count": null,
      "outputs": [
        {
          "output_type": "execute_result",
          "data": {
            "text/plain": [
              "0    2374\n",
              "1    2363\n",
              "6    2274\n",
              "4    2271\n",
              "3    2268\n",
              "2    2268\n",
              "5    2267\n",
              "Name: day, dtype: int64"
            ]
          },
          "metadata": {
            "tags": []
          },
          "execution_count": 12
        }
      ]
    },
    {
      "cell_type": "code",
      "metadata": {
        "id": "GiqxR_LRP1Ix",
        "colab": {
          "base_uri": "https://localhost:8080/"
        },
        "outputId": "e0b77787-add0-478b-de90-b6e2ae425707"
      },
      "source": [
        "#mean\r\n",
        "data['b_returned'].mean()"
      ],
      "execution_count": null,
      "outputs": [
        {
          "output_type": "execute_result",
          "data": {
            "text/plain": [
              "125.912713708424"
            ]
          },
          "metadata": {
            "tags": []
          },
          "execution_count": 14
        }
      ]
    },
    {
      "cell_type": "code",
      "metadata": {
        "id": "MPSou5ScPfgJ",
        "colab": {
          "base_uri": "https://localhost:8080/"
        },
        "outputId": "1092a5b4-04d4-4cbe-e9d2-38454c5c9e47"
      },
      "source": [
        "#mode\r\n",
        "data['daily_points'].mode().sum()"
      ],
      "execution_count": null,
      "outputs": [
        {
          "output_type": "execute_result",
          "data": {
            "text/plain": [
              "1440"
            ]
          },
          "metadata": {
            "tags": []
          },
          "execution_count": 15
        }
      ]
    },
    {
      "cell_type": "code",
      "metadata": {
        "id": "9gTIkxoVQmir",
        "colab": {
          "base_uri": "https://localhost:8080/"
        },
        "outputId": "0d82539b-1698-4ca3-c7d3-d94e7878e8cf"
      },
      "source": [
        "#\r\n",
        "mediandata['b_taken'].median()"
      ],
      "execution_count": null,
      "outputs": [
        {
          "output_type": "execute_result",
          "data": {
            "text/plain": [
              "46.0"
            ]
          },
          "metadata": {
            "tags": []
          },
          "execution_count": 16
        }
      ]
    },
    {
      "cell_type": "code",
      "metadata": {
        "id": "AZZ4D53QRu-x",
        "colab": {
          "base_uri": "https://localhost:8080/"
        },
        "outputId": "f800e72d-93e4-485d-8f62-70ea3fd13d43"
      },
      "source": [
        "#variance\r\n",
        "data['b_taken'].var()"
      ],
      "execution_count": null,
      "outputs": [
        {
          "output_type": "execute_result",
          "data": {
            "text/plain": [
              "34383.01611333789"
            ]
          },
          "metadata": {
            "tags": []
          },
          "execution_count": 18
        }
      ]
    },
    {
      "cell_type": "code",
      "metadata": {
        "id": "B_Y8yw9LRxVn",
        "colab": {
          "base_uri": "https://localhost:8080/"
        },
        "outputId": "7d09995b-c86e-4263-a216-39a89aad6ec9"
      },
      "source": [
        "#skewness\r\n",
        "data['b_taken'].skew()"
      ],
      "execution_count": null,
      "outputs": [
        {
          "output_type": "execute_result",
          "data": {
            "text/plain": [
              "2.4063548974959086"
            ]
          },
          "metadata": {
            "tags": []
          },
          "execution_count": 19
        }
      ]
    },
    {
      "cell_type": "code",
      "metadata": {
        "id": "Xiz-GBYCR0a0",
        "colab": {
          "base_uri": "https://localhost:8080/"
        },
        "outputId": "49257af2-c30e-4116-ac49-c55fed7b0b3c"
      },
      "source": [
        "#kurtosis\r\n",
        "data['b_taken'].kurt()"
      ],
      "execution_count": null,
      "outputs": [
        {
          "output_type": "execute_result",
          "data": {
            "text/plain": [
              "6.172692305510042"
            ]
          },
          "metadata": {
            "tags": []
          },
          "execution_count": 20
        }
      ]
    },
    {
      "cell_type": "code",
      "metadata": {
        "id": "osE4p_oUSGqY",
        "colab": {
          "base_uri": "https://localhost:8080/"
        },
        "outputId": "d548c1a2-5739-4a31-dd94-2510e2f18d0d"
      },
      "source": [
        "#quartiles\r\n",
        "data['b_returned'].quantile([0.25, 0.5, 0.75])"
      ],
      "execution_count": null,
      "outputs": [
        {
          "output_type": "execute_result",
          "data": {
            "text/plain": [
              "0.25     20.0\n",
              "0.50     46.0\n",
              "0.75    135.0\n",
              "Name: b_returned, dtype: float64"
            ]
          },
          "metadata": {
            "tags": []
          },
          "execution_count": 21
        }
      ]
    },
    {
      "cell_type": "code",
      "metadata": {
        "id": "1l5Rr9UdSZYN",
        "colab": {
          "base_uri": "https://localhost:8080/"
        },
        "outputId": "5d8fb061-4b0a-4594-e454-13c60299dc62"
      },
      "source": [
        "#\r\n",
        "rangehighest = data['daily_points'].max()\r\n",
        "lowest = data['daily_points'].min()\r\n",
        "highest - lowest"
      ],
      "execution_count": null,
      "outputs": [
        {
          "output_type": "execute_result",
          "data": {
            "text/plain": [
              "266"
            ]
          },
          "metadata": {
            "tags": []
          },
          "execution_count": 22
        }
      ]
    },
    {
      "cell_type": "code",
      "metadata": {
        "id": "wHdbWN6ESsLM",
        "colab": {
          "base_uri": "https://localhost:8080/",
          "height": 295
        },
        "outputId": "c5cfe2e8-716b-49c0-bcc6-9080f9659ffa"
      },
      "source": [
        "#bar chart\r\n",
        "data.day.value_counts().plot.bar()\r\n",
        "plt.title('BAR CHART OF DAYS OF THE WEEK')"
      ],
      "execution_count": null,
      "outputs": [
        {
          "output_type": "execute_result",
          "data": {
            "text/plain": [
              "Text(0.5, 1.0, 'BAR CHART OF DAYS OF THE WEEK')"
            ]
          },
          "metadata": {
            "tags": []
          },
          "execution_count": 23
        },
        {
          "output_type": "display_data",
          "data": {
            "image/png": "[encoded data removed]",
            "text/plain": [
              "<Figure size 432x288 with 1 Axes>"
            ]
          },
          "metadata": {
            "tags": [],
            "needs_background": "light"
          }
        }
      ]
    },
    {
      "cell_type": "markdown",
      "metadata": {
        "id": "akIQ-S6vsjhM"
      },
      "source": [
        "The first two days recorded a higher number than the others"
      ]
    },
    {
      "cell_type": "code",
      "metadata": {
        "id": "ZBTSi_VYT5qu",
        "colab": {
          "base_uri": "https://localhost:8080/",
          "height": 281
        },
        "outputId": "e8269221-c6a6-460f-cf2c-f7ec71e2d62a"
      },
      "source": [
        "data.day_type.value_counts().plot(kind= 'pie')\r\n",
        "plt.title('PIE CHART OF WEEKEND VS WEEKday')\r\n",
        "\r\n"
      ],
      "execution_count": null,
      "outputs": [
        {
          "output_type": "execute_result",
          "data": {
            "text/plain": [
              "Text(0.5, 1.0, 'PIE CHART OF WEEKEND VS WEEKday')"
            ]
          },
          "metadata": {
            "tags": []
          },
          "execution_count": 24
        },
        {
          "output_type": "display_data",
          "data": {
            "image/png": "[encoded data removed]",
            "text/plain": [
              "<Figure size 432x288 with 1 Axes>"
            ]
          },
          "metadata": {
            "tags": []
          }
        }
      ]
    },
    {
      "cell_type": "code",
      "metadata": {
        "id": "AIaPH3YoW7PL",
        "colab": {
          "base_uri": "https://localhost:8080/",
          "height": 312
        },
        "outputId": "c216e2dd-2cb6-4fb7-db9e-b69b1080c494"
      },
      "source": [
        "#bar graph\r\n",
        "data.daily_points.value_counts().plot.barh()\r\n",
        "plt.xlabel('TOTAL')\r\n",
        "plt.ylabel('DAILY POINTS')\r\n",
        "plt.title('BAR CHART OF DAYS OF THE WEEK')"
      ],
      "execution_count": 87,
      "outputs": [
        {
          "output_type": "execute_result",
          "data": {
            "text/plain": [
              "Text(0.5, 1.0, 'BAR CHART OF DAYS OF THE WEEK')"
            ]
          },
          "metadata": {
            "tags": []
          },
          "execution_count": 87
        },
        {
          "output_type": "display_data",
          "data": {
            "image/png": "[encoded data removed]",
            "text/plain": [
              "<Figure size 432x288 with 1 Axes>"
            ]
          },
          "metadata": {
            "tags": [],
            "needs_background": "light"
          }
        }
      ]
    },
    {
      "cell_type": "markdown",
      "metadata": {
        "id": "0z-f78SzXot0"
      },
      "source": [
        "2.Bivariate analysis"
      ]
    },
    {
      "cell_type": "code",
      "metadata": {
        "id": "epSGXo5oaJ20",
        "colab": {
          "base_uri": "https://localhost:8080/",
          "height": 903
        },
        "outputId": "35611744-2118-477a-9728-e73930e214c1"
      },
      "source": [
        "#combined scatter graph showing relationship between all variables \r\n",
        "sns.pairplot(data)\r\n",
        "plt.show()"
      ],
      "execution_count": null,
      "outputs": [
        {
          "output_type": "display_data",
          "data": {
            "image/png": "[encoded data removed]",
            "text/plain": [
              "<Figure size 900x900 with 30 Axes>"
            ]
          },
          "metadata": {
            "tags": [],
            "needs_background": "light"
          }
        }
      ]
    },
    {
      "cell_type": "code",
      "metadata": {
        "id": "h6FdtqPUbMw2",
        "colab": {
          "base_uri": "https://localhost:8080/",
          "height": 297
        },
        "outputId": "180d08fb-51e9-49b7-e705-769863a79671"
      },
      "source": [
        "#scatter graph\r\n",
        "# there seems to be a correlation\r\n",
        "sns.regplot(x = data[\"b_taken\"], y = data[\"b_returned\"], fit_reg=False)"
      ],
      "execution_count": null,
      "outputs": [
        {
          "output_type": "execute_result",
          "data": {
            "text/plain": [
              "<matplotlib.axes._subplots.AxesSubplot at 0x7fd48e4557b8>"
            ]
          },
          "metadata": {
            "tags": []
          },
          "execution_count": 27
        },
        {
          "output_type": "display_data",
          "data": {
            "image/png": "[encoded data removed]",
            "text/plain": [
              "<Figure size 432x288 with 1 Axes>"
            ]
          },
          "metadata": {
            "tags": [],
            "needs_background": "light"
          }
        }
      ]
    },
    {
      "cell_type": "markdown",
      "metadata": {
        "id": "ozh1Mda8ty1R"
      },
      "source": [
        "Challenge result"
      ]
    },
    {
      "cell_type": "code",
      "metadata": {
        "colab": {
          "base_uri": "https://localhost:8080/"
        },
        "id": "ATyhB9xhreEw",
        "outputId": "bb5c871b-c326-422d-a3e5-a5fc83a48fb4"
      },
      "source": [
        "#pearson correlation\r\n",
        "#pearson coefficient is more than 0.50 confirming a strong correlation\r\n",
        "data[\"b_taken\"].corr(data[\"b_returned\"]) "
      ],
      "execution_count": 83,
      "outputs": [
        {
          "output_type": "execute_result",
          "data": {
            "text/plain": [
              "0.9986597051672196"
            ]
          },
          "metadata": {
            "tags": []
          },
          "execution_count": 83
        }
      ]
    },
    {
      "cell_type": "code",
      "metadata": {
        "colab": {
          "base_uri": "https://localhost:8080/",
          "height": 299
        },
        "id": "xLXcHMgvqyGr",
        "outputId": "ac4690e4-a474-4408-fe1b-1ff4efc225ac"
      },
      "source": [
        "#Scatter plot.\r\n",
        "#There is a correlation\r\n",
        "sns.regplot(x = data[\"b_taken\"], y = data[\"daily_points\"], fit_reg=False)"
      ],
      "execution_count": 81,
      "outputs": [
        {
          "output_type": "execute_result",
          "data": {
            "text/plain": [
              "<matplotlib.axes._subplots.AxesSubplot at 0x7fd490164470>"
            ]
          },
          "metadata": {
            "tags": []
          },
          "execution_count": 81
        },
        {
          "output_type": "display_data",
          "data": {
            "image/png": "[encoded data removed]",
            "text/plain": [
              "<Figure size 432x288 with 1 Axes>"
            ]
          },
          "metadata": {
            "tags": [],
            "needs_background": "light"
          }
        }
      ]
    },
    {
      "cell_type": "markdown",
      "metadata": {
        "id": "Nhqvf2CIuEnr"
      },
      "source": [
        "Challenge results"
      ]
    },
    {
      "cell_type": "code",
      "metadata": {
        "colab": {
          "base_uri": "https://localhost:8080/"
        },
        "id": "cIne95z3rf8A",
        "outputId": "ad1a19e5-55af-4859-a453-37ca26572361"
      },
      "source": [
        "#The person coefficient falls between .20 and .50\r\n",
        "# This confirms a correlation, although weak.\r\n",
        "data[\"b_taken\"].corr(data[\"daily_points\"]) "
      ],
      "execution_count": 84,
      "outputs": [
        {
          "output_type": "execute_result",
          "data": {
            "text/plain": [
              "0.029410507961460938"
            ]
          },
          "metadata": {
            "tags": []
          },
          "execution_count": 84
        }
      ]
    },
    {
      "cell_type": "code",
      "metadata": {
        "colab": {
          "base_uri": "https://localhost:8080/",
          "height": 296
        },
        "id": "jwccDHO8q80v",
        "outputId": "882e01e6-fa0f-4d5c-c338-8fea8efaa843"
      },
      "source": [
        "#Scatter plot\r\n",
        "#There is barely any correlation\r\n",
        "sns.regplot(x = data[\"day\"], y = data[\"b_returned\"], fit_reg=False)"
      ],
      "execution_count": 82,
      "outputs": [
        {
          "output_type": "execute_result",
          "data": {
            "text/plain": [
              "<matplotlib.axes._subplots.AxesSubplot at 0x7fd49015ff60>"
            ]
          },
          "metadata": {
            "tags": []
          },
          "execution_count": 82
        },
        {
          "output_type": "display_data",
          "data": {
            "image/png": "[encoded data removed]",
            "text/plain": [
              "<Figure size 432x288 with 1 Axes>"
            ]
          },
          "metadata": {
            "tags": [],
            "needs_background": "light"
          }
        }
      ]
    },
    {
      "cell_type": "markdown",
      "metadata": {
        "id": "Nw5OGUonulzo"
      },
      "source": [
        "Challenge result"
      ]
    },
    {
      "cell_type": "code",
      "metadata": {
        "colab": {
          "base_uri": "https://localhost:8080/"
        },
        "id": "I6WvkpTwrhi4",
        "outputId": "4529f653-46c4-4d4f-f549-d1ef64dd0d19"
      },
      "source": [
        "#The pearson coefficient is below .20\r\n",
        "# This confirms that there is very weak correlation\r\n",
        "data[\"day\"].corr(data[\"b_returned\"]) "
      ],
      "execution_count": 85,
      "outputs": [
        {
          "output_type": "execute_result",
          "data": {
            "text/plain": [
              "0.08195445794154736"
            ]
          },
          "metadata": {
            "tags": []
          },
          "execution_count": 85
        }
      ]
    },
    {
      "cell_type": "code",
      "metadata": {
        "colab": {
          "base_uri": "https://localhost:8080/",
          "height": 328
        },
        "id": "BwdQS63fpyjX",
        "outputId": "5237af5d-d715-48f1-f5d9-351775a01101"
      },
      "source": [
        "#Line graph\r\n",
        "grouped.plot(x='b_returned', y='daily_points', rot=90)\r\n",
        "plt.xlabel(' NO OF BLUE CARS RETURNED')\r\n",
        "plt.ylabel('NO OF DAILY POINTS')\r\n",
        "plt.title('A LINE GRAPH')\r\n",
        "plt.show"
      ],
      "execution_count": 88,
      "outputs": [
        {
          "output_type": "execute_result",
          "data": {
            "text/plain": [
              "<function matplotlib.pyplot.show>"
            ]
          },
          "metadata": {
            "tags": []
          },
          "execution_count": 88
        },
        {
          "output_type": "display_data",
          "data": {
            "image/png": "[encoded data removed]",
            "text/plain": [
              "<Figure size 432x288 with 1 Axes>"
            ]
          },
          "metadata": {
            "tags": [],
            "needs_background": "light"
          }
        }
      ]
    },
    {
      "cell_type": "code",
      "metadata": {
        "id": "ceHyfyb7bX0i",
        "colab": {
          "base_uri": "https://localhost:8080/",
          "height": 321
        },
        "outputId": "87499ed7-7c31-4170-ebc4-cb6fdcd94b51"
      },
      "source": [
        "#line graph shows a positive correlation\r\n",
        "grouped = data.groupby(['p_code']).count().reset_index()\r\n",
        "grouped.plot(x='day', y='b_taken', rot=90)\r\n",
        "plt.xlabel('AGE')\r\n",
        "plt.ylabel('no')\r\n",
        "plt.title('A LINE GRAPH')\r\n",
        "plt.show"
      ],
      "execution_count": null,
      "outputs": [
        {
          "output_type": "execute_result",
          "data": {
            "text/plain": [
              "<function matplotlib.pyplot.show>"
            ]
          },
          "metadata": {
            "tags": []
          },
          "execution_count": 28
        },
        {
          "output_type": "display_data",
          "data": {
            "image/png": "[encoded data removed]",
            "text/plain": [
              "<Figure size 432x288 with 1 Axes>"
            ]
          },
          "metadata": {
            "tags": [],
            "needs_background": "light"
          }
        }
      ]
    },
    {
      "cell_type": "code",
      "metadata": {
        "id": "mhGY3MW-JMwf",
        "colab": {
          "base_uri": "https://localhost:8080/",
          "height": 270
        },
        "outputId": "f307bafd-757d-432b-9085-31ec0be0a5c9"
      },
      "source": [
        "#The heatmap\r\n",
        "sns.heatmap(data.corr(),annot=True)\r\n",
        "plt.show()"
      ],
      "execution_count": null,
      "outputs": [
        {
          "output_type": "display_data",
          "data": {
            "image/png": "[encoded data removed]",
            "text/plain": [
              "<Figure size 432x288 with 2 Axes>"
            ]
          },
          "metadata": {
            "tags": [],
            "needs_background": "light"
          }
        }
      ]
    },
    {
      "cell_type": "code",
      "metadata": {
        "id": "E6gWxdVkqzQ4",
        "colab": {
          "base_uri": "https://localhost:8080/",
          "height": 494
        },
        "outputId": "8baabf9e-a342-42ea-8d1b-d64b675846ae"
      },
      "source": [
        "#Combined bar chart\r\n",
        "#Weekends have more cars than on weekdays\r\n",
        "fig, (ax1,ax2) = plt.subplots(1,2, figsize=(14, 7))\r\n",
        "fig.suptitle('Categorical-Numerical Relationships')\r\n",
        "sns.barplot(x=data.day_type, y= data.b_taken, ax=ax1)\r\n",
        "sns.barplot(x=data.day_type, y=data.b_returned, ax=ax2)\r\n",
        "plt.show()\r\n"
      ],
      "execution_count": null,
      "outputs": [
        {
          "output_type": "display_data",
          "data": {
            "image/png": "[encoded data removed]",
            "text/plain": [
              "<Figure size 1008x504 with 2 Axes>"
            ]
          },
          "metadata": {
            "tags": [],
            "needs_background": "light"
          }
        }
      ]
    },
    {
      "cell_type": "markdown",
      "metadata": {
        "id": "05p3zlPuWEXU"
      },
      "source": [
        "#HYPOTHESIS TESTING"
      ]
    },
    {
      "cell_type": "markdown",
      "metadata": {
        "id": "w7BG4RbHiOyA"
      },
      "source": [
        "1.State the null hypothesis and alternate hypothesis."
      ]
    },
    {
      "cell_type": "code",
      "metadata": {
        "colab": {
          "base_uri": "https://localhost:8080/"
        },
        "id": "n7QTdWE2lo-y",
        "outputId": "35e58cb0-5f75-4000-bd15-5b98bb9ee9a5"
      },
      "source": [
        "#mean of our data\r\n",
        "datamean=data['b_taken'].mean()\r\n",
        "datamean"
      ],
      "execution_count": null,
      "outputs": [
        {
          "output_type": "execute_result",
          "data": {
            "text/plain": [
              "125.92695057506994"
            ]
          },
          "metadata": {
            "tags": []
          },
          "execution_count": 73
        }
      ]
    },
    {
      "cell_type": "markdown",
      "metadata": {
        "id": "hwkqwDUmiXLR"
      },
      "source": [
        "From our univariate analysis, mean of the data was 125.92695\r\n",
        "\r\n",
        "\r\n",
        "* Ho : mean of  blue cars taken = 125.92695\r\n",
        "* H1 : mean of blue cars taken != 125.92695\r\n",
        "\r\n"
      ]
    },
    {
      "cell_type": "markdown",
      "metadata": {
        "id": "VB7ehbnkjsjB"
      },
      "source": [
        "2. Get sample"
      ]
    },
    {
      "cell_type": "code",
      "metadata": {
        "colab": {
          "base_uri": "https://localhost:8080/",
          "height": 204
        },
        "id": "O7LOLS-AUmgF",
        "outputId": "2e48b938-79be-46cb-8af9-073e2e9ace36"
      },
      "source": [
        "import random\r\n",
        "# Selecting the sample \r\n",
        "hypo_sample = data.sample(n = 40, replace=\"False\")\r\n",
        "hypo_sample.head()"
      ],
      "execution_count": 71,
      "outputs": [
        {
          "output_type": "execute_result",
          "data": {
            "text/html": [
              "<div>\n",
              "<style scoped>\n",
              "    .dataframe tbody tr th:only-of-type {\n",
              "        vertical-align: middle;\n",
              "    }\n",
              "\n",
              "    .dataframe tbody tr th {\n",
              "        vertical-align: top;\n",
              "    }\n",
              "\n",
              "    .dataframe thead th {\n",
              "        text-align: right;\n",
              "    }\n",
              "</style>\n",
              "<table border=\"1\" class=\"dataframe\">\n",
              "  <thead>\n",
              "    <tr style=\"text-align: right;\">\n",
              "      <th></th>\n",
              "      <th>p_code</th>\n",
              "      <th>date</th>\n",
              "      <th>daily_points</th>\n",
              "      <th>day</th>\n",
              "      <th>day_type</th>\n",
              "      <th>b_taken</th>\n",
              "      <th>b_returned</th>\n",
              "    </tr>\n",
              "  </thead>\n",
              "  <tbody>\n",
              "    <tr>\n",
              "      <th>4280</th>\n",
              "      <td>91400</td>\n",
              "      <td>3/14/2018</td>\n",
              "      <td>1440</td>\n",
              "      <td>2</td>\n",
              "      <td>weekday</td>\n",
              "      <td>9</td>\n",
              "      <td>6</td>\n",
              "    </tr>\n",
              "    <tr>\n",
              "      <th>9362</th>\n",
              "      <td>92500</td>\n",
              "      <td>1/20/2018</td>\n",
              "      <td>1439</td>\n",
              "      <td>5</td>\n",
              "      <td>weekend</td>\n",
              "      <td>188</td>\n",
              "      <td>175</td>\n",
              "    </tr>\n",
              "    <tr>\n",
              "      <th>15784</th>\n",
              "      <td>95870</td>\n",
              "      <td>1/12/2018</td>\n",
              "      <td>1439</td>\n",
              "      <td>4</td>\n",
              "      <td>weekday</td>\n",
              "      <td>15</td>\n",
              "      <td>10</td>\n",
              "    </tr>\n",
              "    <tr>\n",
              "      <th>15712</th>\n",
              "      <td>95100</td>\n",
              "      <td>4/9/2018</td>\n",
              "      <td>1440</td>\n",
              "      <td>0</td>\n",
              "      <td>weekday</td>\n",
              "      <td>35</td>\n",
              "      <td>38</td>\n",
              "    </tr>\n",
              "    <tr>\n",
              "      <th>11615</th>\n",
              "      <td>93350</td>\n",
              "      <td>5/8/2018</td>\n",
              "      <td>1425</td>\n",
              "      <td>1</td>\n",
              "      <td>weekday</td>\n",
              "      <td>20</td>\n",
              "      <td>16</td>\n",
              "    </tr>\n",
              "  </tbody>\n",
              "</table>\n",
              "</div>"
            ],
            "text/plain": [
              "       p_code       date  daily_points  day day_type  b_taken  b_returned\n",
              "4280    91400  3/14/2018          1440    2  weekday        9           6\n",
              "9362    92500  1/20/2018          1439    5  weekend      188         175\n",
              "15784   95870  1/12/2018          1439    4  weekday       15          10\n",
              "15712   95100   4/9/2018          1440    0  weekday       35          38\n",
              "11615   93350   5/8/2018          1425    1  weekday       20          16"
            ]
          },
          "metadata": {
            "tags": []
          },
          "execution_count": 71
        }
      ]
    },
    {
      "cell_type": "markdown",
      "metadata": {
        "id": "mNxSz3bPj0Y8"
      },
      "source": [
        "3. Identify test statistic"
      ]
    },
    {
      "cell_type": "markdown",
      "metadata": {
        "id": "JSOJPWZ3kDpM"
      },
      "source": [
        "z test will be used because the sample size is more than 30"
      ]
    },
    {
      "cell_type": "markdown",
      "metadata": {
        "id": "nK0vVUXDkVuI"
      },
      "source": [
        "4. Set Alpha"
      ]
    },
    {
      "cell_type": "markdown",
      "metadata": {
        "id": "tNTP-k1JZdaU"
      },
      "source": [
        "alpha = 0.05, for a two tail test, then we divide this by two. alpha is now 0.025"
      ]
    },
    {
      "cell_type": "markdown",
      "metadata": {
        "id": "Ejt9BMd9kZvX"
      },
      "source": [
        "5. Obtain critical z value from z score"
      ]
    },
    {
      "cell_type": "markdown",
      "metadata": {
        "id": "DvtFsooKZ17J"
      },
      "source": [
        "value of z for 0.025 from the z score is + or - 1.96"
      ]
    },
    {
      "cell_type": "markdown",
      "metadata": {
        "id": "WKwO76W9krAO"
      },
      "source": [
        "5.Analyse data "
      ]
    },
    {
      "cell_type": "code",
      "metadata": {
        "colab": {
          "base_uri": "https://localhost:8080/"
        },
        "id": "2y_yijbHZBAR",
        "outputId": "0ab3aa36-4c38-440d-c4d8-570adc8103a7"
      },
      "source": [
        "#mean of our sample\r\n",
        "samplemean=hypo_sample['b_taken'].mean()\r\n",
        "samplemean"
      ],
      "execution_count": 72,
      "outputs": [
        {
          "output_type": "execute_result",
          "data": {
            "text/plain": [
              "106.2"
            ]
          },
          "metadata": {
            "tags": []
          },
          "execution_count": 72
        }
      ]
    },
    {
      "cell_type": "code",
      "metadata": {
        "id": "zESOeYIVPwyr",
        "colab": {
          "base_uri": "https://localhost:8080/"
        },
        "outputId": "5b4dd3c8-58ff-4c9d-e0d2-8ef07b1d2a25"
      },
      "source": [
        "#hypothesised mean\r\n",
        "datamean=data['b_taken'].mean()\r\n",
        "datamean"
      ],
      "execution_count": 75,
      "outputs": [
        {
          "output_type": "execute_result",
          "data": {
            "text/plain": [
              "125.92695057506994"
            ]
          },
          "metadata": {
            "tags": []
          },
          "execution_count": 75
        }
      ]
    },
    {
      "cell_type": "code",
      "metadata": {
        "id": "I3W0zFHaQveB",
        "colab": {
          "base_uri": "https://localhost:8080/"
        },
        "outputId": "1a1375fc-e4c8-437b-b56c-70427f47c3ed"
      },
      "source": [
        "#standard deviation of our data(population)\r\n",
        "std_data=data['b_taken'].std()\r\n",
        "std_data"
      ],
      "execution_count": 76,
      "outputs": [
        {
          "output_type": "execute_result",
          "data": {
            "text/plain": [
              "185.42657876727893"
            ]
          },
          "metadata": {
            "tags": []
          },
          "execution_count": 76
        }
      ]
    },
    {
      "cell_type": "markdown",
      "metadata": {
        "id": "YcpVgpDak3Mp"
      },
      "source": [
        "6. Get p-value"
      ]
    },
    {
      "cell_type": "code",
      "metadata": {
        "colab": {
          "base_uri": "https://localhost:8080/"
        },
        "id": "tV3Qaez6byU9",
        "outputId": "0900df51-e86d-4874-cb5f-3efd5414a700"
      },
      "source": [
        "import math\r\n",
        "N =40\r\n",
        "(samplemean - datamean)/(std_data/math.sqrt(N))"
      ],
      "execution_count": 77,
      "outputs": [
        {
          "output_type": "execute_result",
          "data": {
            "text/plain": [
              "-0.6728495507117408"
            ]
          },
          "metadata": {
            "tags": []
          },
          "execution_count": 77
        }
      ]
    },
    {
      "cell_type": "markdown",
      "metadata": {
        "id": "03eku1JGk7QO"
      },
      "source": [
        "7.Analyse results"
      ]
    },
    {
      "cell_type": "markdown",
      "metadata": {
        "id": "A8Oq0hehlOek"
      },
      "source": [
        "* critical value is -1.96\r\n",
        "\r\n",
        "*  observed value -0.672849  \r\n",
        "\r\n"
      ]
    },
    {
      "cell_type": "markdown",
      "metadata": {
        "id": "67ySGHTjmuEw"
      },
      "source": [
        " The observed p-value is within range of the critical value."
      ]
    },
    {
      "cell_type": "markdown",
      "metadata": {
        "id": "EWF3mXkxGMvN"
      },
      "source": [
        "HYPOTHESIS SENSITIVITY"
      ]
    },
    {
      "cell_type": "markdown",
      "metadata": {
        "id": "IM6loj3uGMnU"
      },
      "source": [
        ""
      ]
    },
    {
      "cell_type": "code",
      "metadata": {
        "colab": {
          "base_uri": "https://localhost:8080/"
        },
        "id": "H8KlnyQZE0tv",
        "outputId": "8379727f-479b-414d-f66c-591e5ad78cea"
      },
      "source": [
        "# Selecting the sample \r\n",
        "hypo_sample2 = data.sample(n = 20, replace=\"False\")\r\n",
        "hypo_sample2.head()\r\n",
        "#mean of our new sample\r\n",
        "samplemean2=hypo_sample2['b_taken'].mean()\r\n",
        "samplemean2"
      ],
      "execution_count": 110,
      "outputs": [
        {
          "output_type": "execute_result",
          "data": {
            "text/plain": [
              "122.8"
            ]
          },
          "metadata": {
            "tags": []
          },
          "execution_count": 110
        }
      ]
    },
    {
      "cell_type": "code",
      "metadata": {
        "colab": {
          "base_uri": "https://localhost:8080/"
        },
        "id": "uNYk-ovlFCdI",
        "outputId": "5ef95941-cb7f-45a6-ac24-decc395cad23"
      },
      "source": [
        "import math\r\n",
        "N =20\r\n",
        "(samplemean2 - datamean)/(std_data/math.sqrt(N))"
      ],
      "execution_count": 112,
      "outputs": [
        {
          "output_type": "execute_result",
          "data": {
            "text/plain": [
              "-0.16863551039219918"
            ]
          },
          "metadata": {
            "tags": []
          },
          "execution_count": 112
        }
      ]
    },
    {
      "cell_type": "markdown",
      "metadata": {
        "id": "s4kZD1U0FjzN"
      },
      "source": [
        "NOTE THAT EVERY TIME YOU RUN THESE TWO CELLS, A NEW SAMPLE SIZE IS GENERATED BUT IT STILL FALLS UNDER THE CRITICAL RANGE OF -1.96 TO +1.96"
      ]
    },
    {
      "cell_type": "markdown",
      "metadata": {
        "id": "zn49BcWEvdrB"
      },
      "source": [
        "#**CONCLUSION**"
      ]
    },
    {
      "cell_type": "markdown",
      "metadata": {
        "id": "W6bNylF-nES4"
      },
      "source": [
        "I FAIL TO REJECT THE NULL HYPOTHESIS "
      ]
    },
    {
      "cell_type": "markdown",
      "metadata": {
        "id": "PLx86rganQox"
      },
      "source": [
        "There is enough statistical evidence that leads me to fail to reject the null hypothesis."
      ]
    }
  ]
}